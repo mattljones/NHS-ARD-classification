{
 "cells": [
  {
   "cell_type": "markdown",
   "id": "c8284331",
   "metadata": {},
   "source": [
    "# Detecting Acute Respiratory Distress in NHS 111 Calls\n",
    "\n",
    "## Table of Contents\n",
    "<ul>\n",
    "<li><a href=\"#intro\">Introduction</a></li>\n",
    "<li><a href=\"#wrangling\">Data Wrangling</a></li>\n",
    "<li><a href=\"#eda\">Exploratory Data Analysis</a></li>\n",
    "<li><a href=\"#modelling\">Predictive Modelling</a></li>\n",
    "<li><a href=\"#conclusions\">Conclusions & Next Steps</a></li>\n",
    "</ul>"
   ]
  },
  {
   "cell_type": "markdown",
   "id": "103ab786",
   "metadata": {},
   "source": [
    "<a id='intro'></a>\n",
    "## Introduction"
   ]
  },
  {
   "cell_type": "markdown",
   "id": "15196990",
   "metadata": {},
   "source": [
    "This notebook performs data analysis and modelling using a (private) dataset containing information on 74 calls made to NHS 111, with callers labelled as being in acute respiratory distress (ARD, 40) or not (non-ARD, 34).\n",
    "\n",
    "For privacy reasons, the content and metadata of the conversations were completely removed:\n",
    "- No audio\n",
    "- No transcription\n",
    "- No time of day or location\n",
    "- No caller identity data\n",
    "\n",
    "The dataset consists of 74 CSV files, each containing a subset of the IBM Watson STT JSON response. Each row in the CSV corresponds to one word in the call, and there are five features per word:\n",
    "\n",
    "1. **TimeFrom:** Beginning time for the word\n",
    "2. **TimeTo:** End time for the word\n",
    "3. **Speaker:** Who is saying the word (0: operator, 1: caller)\n",
    "4. **Gap between:** A derived feature: the pause between the previous speaker finishing and the current speaker starting. \n",
    "5. **Confidence:** IBM's confidence that the transcription it gave to the word is correct (a probability)\n",
    "\n",
    "The question, therefore, is as follows: *To what extent, with this limited dataset, is it possible to classify callers as being in ARD or not?*\n",
    "\n",
    "The motivation for asking this question is to enable NHS 111 to automatically prioritise individuals in ARD so that their waiting times are minimised."
   ]
  },
  {
   "cell_type": "code",
   "execution_count": 122,
   "id": "4d0a05b8",
   "metadata": {},
   "outputs": [],
   "source": [
    "# Basic libraries\n",
    "import numpy as np\n",
    "import pandas as pd\n",
    "import matplotlib.pyplot as plt\n",
    "import seaborn as sns\n",
    "from scipy.stats import kurtosis\n",
    "\n",
    "# Model selection & pipelining \n",
    "from sklearn.model_selection import cross_val_score, cross_val_predict, StratifiedKFold, GridSearchCV\n",
    "from sklearn.preprocessing import StandardScaler\n",
    "from sklearn.pipeline import make_pipeline\n",
    "\n",
    "# Models\n",
    "from sklearn.linear_model import LogisticRegression\n",
    "from sklearn.neighbors import KNeighborsClassifier\n",
    "from sklearn.svm import SVC\n",
    "from sklearn.tree import DecisionTreeClassifier\n",
    "from xgboost import XGBClassifier\n",
    "\n",
    "# Metrics\n",
    "from sklearn.metrics import accuracy_score, confusion_matrix, classification_report, roc_curve\n",
    "\n",
    "sns.set_theme()\n",
    "%matplotlib inline"
   ]
  },
  {
   "cell_type": "markdown",
   "id": "a17aa9d5",
   "metadata": {},
   "source": [
    "### Helper functions"
   ]
  },
  {
   "cell_type": "code",
   "execution_count": 123,
   "id": "063f2a0b",
   "metadata": {},
   "outputs": [],
   "source": [
    "# Calculates number of turns in the conversation for both speakers\n",
    "\n",
    "def calc_num_turns(arr):\n",
    "    num_operator = 0\n",
    "    num_caller = 0\n",
    "    curr = -1\n",
    "    \n",
    "    for i in arr:\n",
    "        if i != curr:\n",
    "            curr = i\n",
    "            if i == 0:\n",
    "                num_operator += 1\n",
    "            else: \n",
    "                num_caller += 1\n",
    "                \n",
    "    return [num_operator, num_caller]"
   ]
  },
  {
   "cell_type": "code",
   "execution_count": 124,
   "id": "a811f7d1",
   "metadata": {},
   "outputs": [],
   "source": [
    "# Calculates the kurtosis of turn length for both speakers\n",
    "\n",
    "def calc_turn_kurtosis(df):\n",
    "    operator_turn_lens = []\n",
    "    caller_turn_lens = []\n",
    "    curr = 0\n",
    "    time_from = 0\n",
    "    \n",
    "    for i in range(df.shape[0]):\n",
    "        if i == (df.shape[0] - 1):\n",
    "            if curr == 0:\n",
    "                operator_turn_lens.append(df['TimeTo'][i] - time_from)\n",
    "            else: \n",
    "                caller_turn_lens.append(df['TimeTo'][i] - time_from)\n",
    "        elif df['Speaker'][i + 1] != curr:\n",
    "            if curr == 0:\n",
    "                operator_turn_lens.append(df['TimeTo'][i] - time_from)\n",
    "            else: \n",
    "                caller_turn_lens.append(df['TimeTo'][i] - time_from)\n",
    "            curr = df['Speaker'][i + 1]\n",
    "            time_from = df['TimeFrom'][i + 1]\n",
    "            \n",
    "    return [kurtosis(np.array(operator_turn_lens)), kurtosis(np.array(caller_turn_lens))]"
   ]
  },
  {
   "cell_type": "code",
   "execution_count": 125,
   "id": "bcc89026",
   "metadata": {},
   "outputs": [],
   "source": [
    "# Generic bar chart plotting\n",
    "\n",
    "def plot_bar_chart(axis, xlabels, metrics, ylabel):\n",
    "    accuracy = pd.DataFrame(data=metrics, columns=[ylabel], index=xlabels)\n",
    "    ax = sns.barplot(ax=axis, x=xlabels, y=ylabel, data=accuracy)\n",
    "    for p in ax.patches:\n",
    "        ax.annotate(format(p.get_height(), '.2f'), \n",
    "                       (p.get_x() + p.get_width() / 2., p.get_height()), \n",
    "                       ha = 'center', va = 'center', \n",
    "                       xytext = (0, 9), \n",
    "                       textcoords = 'offset points');"
   ]
  },
  {
   "cell_type": "code",
   "execution_count": 126,
   "id": "12d49937",
   "metadata": {},
   "outputs": [],
   "source": [
    "# Feature analysis plotting\n",
    "\n",
    "def plot_feature_analysis(title, colour, non_ARD_avg, ARD_avg):\n",
    "    fig, (ax1, ax2) = plt.subplots(1, 2, figsize=(14,5))\n",
    "    fig.suptitle(title, fontweight='bold')\n",
    "    \n",
    "    # Scatter plot\n",
    "    df.plot.scatter(ax=ax1, x=title, y='in_ARD', c=colour)\n",
    "    \n",
    "    # Bar chart \n",
    "    plot_bar_chart(ax2, xlabels=['Not in ARD', 'In ARD'], metrics=np.array([non_ARD_avg, ARD_avg]), ylabel='Averages');"
   ]
  },
  {
   "cell_type": "code",
   "execution_count": 127,
   "id": "6b70d730",
   "metadata": {},
   "outputs": [],
   "source": [
    "# Confusion matrix plotting \n",
    "\n",
    "def plot_conf_matrix(axis, conf_matrix):\n",
    "    sns.heatmap(conf_matrix, ax=axis, annot=True, cmap=\"YlGnBu\", fmt='g')    \n",
    "    axis.set_ylabel('Actual label')\n",
    "    axis.set_xlabel('Predicted label')\n",
    "    axis.set_title('Confusion Matrix');"
   ]
  },
  {
   "cell_type": "code",
   "execution_count": 128,
   "id": "9f3b8b48",
   "metadata": {},
   "outputs": [],
   "source": [
    "# Specificity vs. sensitivity plotting \n",
    "\n",
    "def plot_spec_sens(y_probs, spec, sens, title):\n",
    "    fpr, tpr, _ = roc_curve(y, y_probs)\n",
    "    fig, axis = plt.subplots(figsize=(7,7))\n",
    "    axis.plot(1 - fpr, tpr)\n",
    "    plt.scatter(spec, sens, color='red', alpha=1, zorder=3)\n",
    "    axis.set_xlabel('Specificity (TNR)')\n",
    "    axis.set_ylabel('Sensitivity (TPR)')\n",
    "    plt.title(title, fontweight='bold');"
   ]
  },
  {
   "cell_type": "markdown",
   "id": "49f881e6",
   "metadata": {},
   "source": [
    "<a id='wrangling'></a>\n",
    "## Data Wrangling"
   ]
  },
  {
   "cell_type": "markdown",
   "id": "8d434755",
   "metadata": {},
   "source": [
    "### Loading files"
   ]
  },
  {
   "cell_type": "code",
   "execution_count": 129,
   "id": "6febcd62",
   "metadata": {},
   "outputs": [],
   "source": [
    "# Set relative path to non_ARD and ARD dir\n",
    "\n",
    "non_ARD_dir = 'dummy_data/non_ARD'\n",
    "ARD_dir = 'dummy_data/ARD'"
   ]
  },
  {
   "cell_type": "code",
   "execution_count": 130,
   "id": "31abf84f",
   "metadata": {},
   "outputs": [],
   "source": [
    "from os import listdir\n",
    "\n",
    "non_ARD_files = [f'dummy_data/non_ARD/{f}' for f in listdir(non_ARD_dir)]\n",
    "ARD_files = [f'dummy_data/ARD/{f}' for f in listdir(ARD_dir)]\n",
    "\n",
    "files = {\n",
    "    0: non_ARD_files,\n",
    "    1: ARD_files\n",
    "}"
   ]
  },
  {
   "cell_type": "code",
   "execution_count": 131,
   "id": "4e363463",
   "metadata": {},
   "outputs": [
    {
     "data": {
      "text/html": [
       "<div>\n",
       "<style scoped>\n",
       "    .dataframe tbody tr th:only-of-type {\n",
       "        vertical-align: middle;\n",
       "    }\n",
       "\n",
       "    .dataframe tbody tr th {\n",
       "        vertical-align: top;\n",
       "    }\n",
       "\n",
       "    .dataframe thead th {\n",
       "        text-align: right;\n",
       "    }\n",
       "</style>\n",
       "<table border=\"1\" class=\"dataframe\">\n",
       "  <thead>\n",
       "    <tr style=\"text-align: right;\">\n",
       "      <th></th>\n",
       "      <th>TimeFrom</th>\n",
       "      <th>TimeTo</th>\n",
       "      <th>Speaker</th>\n",
       "      <th>Gap between speakers</th>\n",
       "      <th>Confidence</th>\n",
       "    </tr>\n",
       "  </thead>\n",
       "  <tbody>\n",
       "    <tr>\n",
       "      <th>0</th>\n",
       "      <td>0.00</td>\n",
       "      <td>0.62</td>\n",
       "      <td>1</td>\n",
       "      <td>0.0</td>\n",
       "      <td>0.49</td>\n",
       "    </tr>\n",
       "    <tr>\n",
       "      <th>1</th>\n",
       "      <td>0.65</td>\n",
       "      <td>0.82</td>\n",
       "      <td>1</td>\n",
       "      <td>0.0</td>\n",
       "      <td>0.67</td>\n",
       "    </tr>\n",
       "    <tr>\n",
       "      <th>2</th>\n",
       "      <td>0.82</td>\n",
       "      <td>0.91</td>\n",
       "      <td>1</td>\n",
       "      <td>0.0</td>\n",
       "      <td>0.67</td>\n",
       "    </tr>\n",
       "    <tr>\n",
       "      <th>3</th>\n",
       "      <td>0.91</td>\n",
       "      <td>1.11</td>\n",
       "      <td>1</td>\n",
       "      <td>0.0</td>\n",
       "      <td>0.67</td>\n",
       "    </tr>\n",
       "    <tr>\n",
       "      <th>4</th>\n",
       "      <td>1.11</td>\n",
       "      <td>1.22</td>\n",
       "      <td>1</td>\n",
       "      <td>0.0</td>\n",
       "      <td>0.67</td>\n",
       "    </tr>\n",
       "  </tbody>\n",
       "</table>\n",
       "</div>"
      ],
      "text/plain": [
       "   TimeFrom  TimeTo  Speaker  Gap between speakers  Confidence\n",
       "0      0.00    0.62        1                   0.0        0.49\n",
       "1      0.65    0.82        1                   0.0        0.67\n",
       "2      0.82    0.91        1                   0.0        0.67\n",
       "3      0.91    1.11        1                   0.0        0.67\n",
       "4      1.11    1.22        1                   0.0        0.67"
      ]
     },
     "execution_count": 131,
     "metadata": {},
     "output_type": "execute_result"
    }
   ],
   "source": [
    "# Preview one file\n",
    "\n",
    "df_preview = pd.read_csv(ARD_files[0], delimiter=',')\n",
    "df_preview.head()"
   ]
  },
  {
   "cell_type": "markdown",
   "id": "f3c2da0c",
   "metadata": {},
   "source": [
    "### Creating features from raw data\n",
    "\n",
    "Four features were identified as being of interest for the caller:\n",
    "\n",
    "- **Words per minute:** Individuals in ARD might speak more slowly (although they could also be panicking and speaking more quickly).\n",
    "- **Words per turn:** Individuals in ARD might be able to say fewer words per turn.\n",
    "- **% of conversation speaking:** Individuals in ARD might say less overall in the conversation.\n",
    "- **Kurtosis of turn length:** Kurtosis is a measure of a distribution's 'tailedness', or the propensity for the distribution to produce outliers. Individuals in ARD, given the limitations this places on their speaking, might have a lower kurtosis of turn length due to the physical limitations they are experiencing.\n",
    "\n",
    "These were also calculated for the operator, since it might be that we need to account for these when looking at caller features. For example, individuals have a tendency to mirror others, so if the operator naturally speaks more quickly then we might observe callers (on average) speaking more quickly with that operator too.\n",
    "\n",
    "Such 'operator' features were not analysed here, however, both for brevity and to avoid the *curse of dimensionality* (we should avoid having too many features with only 74 data points). This is left as an avenue for future work. "
   ]
  },
  {
   "cell_type": "code",
   "execution_count": 132,
   "id": "c9264ae9",
   "metadata": {},
   "outputs": [],
   "source": [
    "dataset = []\n",
    "\n",
    "# For each output class (0 = non-ARD, 1 = ARD)\n",
    "for output_class in [0, 1]:\n",
    "    for path in files[output_class]:\n",
    "        \n",
    "        df = pd.read_csv(path, delimiter=',')\n",
    "        \n",
    "        row = []\n",
    "                \n",
    "        ## RAW DF WRANGLING\n",
    "        # Fix speaker mislabelling (e.g. 1 and 2 instead of 0 and 1)\n",
    "        if df['Speaker'].isin([1, 2]).all():\n",
    "            df['Speaker'] = df['Speaker'] - 1\n",
    "        elif df['Speaker'].isin([0, 2]).all():\n",
    "            df.loc[df['Speaker'] == 2, 'Speaker'] = 1\n",
    "            \n",
    "        # Add derived column\n",
    "        df['duration'] = df['TimeTo'] - df['TimeFrom']\n",
    "        \n",
    "        \n",
    "        # Helper masks\n",
    "        operator_mask = df['Speaker'] == 0\n",
    "        caller_mask = df['Speaker'] == 1\n",
    "        \n",
    "        \n",
    "        ## 1) WORDS PER MINUTE\n",
    "        operator_words = df[operator_mask].shape[0]\n",
    "        operator_duration = df[operator_mask]['duration'].sum()\n",
    "        operator_wp_min = operator_words / operator_duration * 60\n",
    "        row.append(operator_wp_min)\n",
    "        \n",
    "        caller_words = df[caller_mask].shape[0]\n",
    "        caller_duration = df[caller_mask]['duration'].sum()\n",
    "        caller_wp_min = caller_words / caller_duration * 60\n",
    "        row.append(caller_wp_min)\n",
    "        \n",
    "        \n",
    "        ## 2) WORDS PER TURN\n",
    "        operator_turns, caller_turns = calc_num_turns(df['Speaker'])\n",
    "        operator_wp_turn = operator_words / operator_turns\n",
    "        row.append(operator_wp_turn)\n",
    "        caller_wp_turn = caller_words / caller_turns\n",
    "        row.append(caller_wp_turn)\n",
    "        \n",
    "        \n",
    "        ## 3) % CONVERSATION DURATION\n",
    "        operator_percent = operator_duration / (caller_duration + operator_duration)\n",
    "        row.append(operator_percent)\n",
    "        caller_percent = 1 - operator_percent\n",
    "        row.append(caller_percent)\n",
    "        \n",
    "        \n",
    "        ## 4) KURTOSIS TURN LENGTH\n",
    "        operator_len_kurt, caller_len_kurt = calc_turn_kurtosis(df)\n",
    "        row.append(operator_len_kurt)\n",
    "        row.append(caller_len_kurt)\n",
    "        \n",
    "        # Output label\n",
    "        row.append(output_class)\n",
    "        \n",
    "        dataset.append(row)\n",
    "        "
   ]
  },
  {
   "cell_type": "code",
   "execution_count": 133,
   "id": "fdb57258",
   "metadata": {},
   "outputs": [
    {
     "data": {
      "text/html": [
       "<div>\n",
       "<style scoped>\n",
       "    .dataframe tbody tr th:only-of-type {\n",
       "        vertical-align: middle;\n",
       "    }\n",
       "\n",
       "    .dataframe tbody tr th {\n",
       "        vertical-align: top;\n",
       "    }\n",
       "\n",
       "    .dataframe thead th {\n",
       "        text-align: right;\n",
       "    }\n",
       "</style>\n",
       "<table border=\"1\" class=\"dataframe\">\n",
       "  <thead>\n",
       "    <tr style=\"text-align: right;\">\n",
       "      <th></th>\n",
       "      <th>operator_wp_min</th>\n",
       "      <th>caller_wp_min</th>\n",
       "      <th>operator_wp_turn</th>\n",
       "      <th>caller_wp_turn</th>\n",
       "      <th>operator_percent</th>\n",
       "      <th>caller_percent</th>\n",
       "      <th>operator_turn_kurt</th>\n",
       "      <th>caller_turn_kurt</th>\n",
       "      <th>in_ARD</th>\n",
       "    </tr>\n",
       "  </thead>\n",
       "  <tbody>\n",
       "    <tr>\n",
       "      <th>0</th>\n",
       "      <td>228.029242</td>\n",
       "      <td>192.445820</td>\n",
       "      <td>17.878049</td>\n",
       "      <td>6.317073</td>\n",
       "      <td>0.704883</td>\n",
       "      <td>0.295117</td>\n",
       "      <td>4.073135</td>\n",
       "      <td>12.685567</td>\n",
       "      <td>0</td>\n",
       "    </tr>\n",
       "    <tr>\n",
       "      <th>1</th>\n",
       "      <td>232.144276</td>\n",
       "      <td>182.647601</td>\n",
       "      <td>12.815789</td>\n",
       "      <td>9.131579</td>\n",
       "      <td>0.524764</td>\n",
       "      <td>0.475236</td>\n",
       "      <td>3.454322</td>\n",
       "      <td>8.030907</td>\n",
       "      <td>0</td>\n",
       "    </tr>\n",
       "    <tr>\n",
       "      <th>2</th>\n",
       "      <td>217.118595</td>\n",
       "      <td>232.330827</td>\n",
       "      <td>41.666667</td>\n",
       "      <td>12.875000</td>\n",
       "      <td>0.795746</td>\n",
       "      <td>0.204254</td>\n",
       "      <td>0.942607</td>\n",
       "      <td>-1.064707</td>\n",
       "      <td>0</td>\n",
       "    </tr>\n",
       "    <tr>\n",
       "      <th>3</th>\n",
       "      <td>233.180794</td>\n",
       "      <td>195.127557</td>\n",
       "      <td>13.547619</td>\n",
       "      <td>6.738095</td>\n",
       "      <td>0.627212</td>\n",
       "      <td>0.372788</td>\n",
       "      <td>4.345672</td>\n",
       "      <td>7.257747</td>\n",
       "      <td>0</td>\n",
       "    </tr>\n",
       "    <tr>\n",
       "      <th>4</th>\n",
       "      <td>218.520756</td>\n",
       "      <td>179.834134</td>\n",
       "      <td>17.583333</td>\n",
       "      <td>8.956522</td>\n",
       "      <td>0.627681</td>\n",
       "      <td>0.372319</td>\n",
       "      <td>1.798440</td>\n",
       "      <td>6.767570</td>\n",
       "      <td>0</td>\n",
       "    </tr>\n",
       "  </tbody>\n",
       "</table>\n",
       "</div>"
      ],
      "text/plain": [
       "   operator_wp_min  caller_wp_min  operator_wp_turn  caller_wp_turn  \\\n",
       "0       228.029242     192.445820         17.878049        6.317073   \n",
       "1       232.144276     182.647601         12.815789        9.131579   \n",
       "2       217.118595     232.330827         41.666667       12.875000   \n",
       "3       233.180794     195.127557         13.547619        6.738095   \n",
       "4       218.520756     179.834134         17.583333        8.956522   \n",
       "\n",
       "   operator_percent  caller_percent  operator_turn_kurt  caller_turn_kurt  \\\n",
       "0          0.704883        0.295117            4.073135         12.685567   \n",
       "1          0.524764        0.475236            3.454322          8.030907   \n",
       "2          0.795746        0.204254            0.942607         -1.064707   \n",
       "3          0.627212        0.372788            4.345672          7.257747   \n",
       "4          0.627681        0.372319            1.798440          6.767570   \n",
       "\n",
       "   in_ARD  \n",
       "0       0  \n",
       "1       0  \n",
       "2       0  \n",
       "3       0  \n",
       "4       0  "
      ]
     },
     "execution_count": 133,
     "metadata": {},
     "output_type": "execute_result"
    }
   ],
   "source": [
    "# Convert dataset to DataFrame & preview\n",
    "\n",
    "columns = [\n",
    "    'operator_wp_min', \n",
    "    'caller_wp_min',\n",
    "    'operator_wp_turn', \n",
    "    'caller_wp_turn',\n",
    "    'operator_percent',\n",
    "    'caller_percent',\n",
    "    'operator_turn_kurt',\n",
    "    'caller_turn_kurt',\n",
    "    'in_ARD'\n",
    "]\n",
    "\n",
    "df = pd.DataFrame(dataset, columns=columns)\n",
    "df.head()"
   ]
  },
  {
   "cell_type": "markdown",
   "id": "fd5b8e35",
   "metadata": {},
   "source": [
    "<a id='eda'></a>\n",
    "## Exploratory Data Analysis"
   ]
  },
  {
   "cell_type": "markdown",
   "id": "734cb66d",
   "metadata": {},
   "source": [
    "### Summary statistics"
   ]
  },
  {
   "cell_type": "code",
   "execution_count": 134,
   "id": "77d0cb3e",
   "metadata": {},
   "outputs": [
    {
     "name": "stdout",
     "output_type": "stream",
     "text": [
      "Num. nulls:\t 0\n",
      "Num. duplicates: 0\n"
     ]
    }
   ],
   "source": [
    "# Count nulls and duplicates\n",
    "\n",
    "num_nulls = len(df.index) - len(df.dropna().index)\n",
    "num_duplicates = sum(df.duplicated())\n",
    "\n",
    "print('Num. nulls:\\t', num_nulls)\n",
    "print('Num. duplicates:', num_duplicates)"
   ]
  },
  {
   "cell_type": "code",
   "execution_count": 135,
   "id": "90be3fac",
   "metadata": {},
   "outputs": [
    {
     "data": {
      "text/html": [
       "<div>\n",
       "<style scoped>\n",
       "    .dataframe tbody tr th:only-of-type {\n",
       "        vertical-align: middle;\n",
       "    }\n",
       "\n",
       "    .dataframe tbody tr th {\n",
       "        vertical-align: top;\n",
       "    }\n",
       "\n",
       "    .dataframe thead th {\n",
       "        text-align: right;\n",
       "    }\n",
       "</style>\n",
       "<table border=\"1\" class=\"dataframe\">\n",
       "  <thead>\n",
       "    <tr style=\"text-align: right;\">\n",
       "      <th></th>\n",
       "      <th>caller_wp_min</th>\n",
       "      <th>caller_wp_turn</th>\n",
       "      <th>caller_percent</th>\n",
       "      <th>caller_turn_kurt</th>\n",
       "      <th>in_ARD</th>\n",
       "    </tr>\n",
       "  </thead>\n",
       "  <tbody>\n",
       "    <tr>\n",
       "      <th>count</th>\n",
       "      <td>74.000000</td>\n",
       "      <td>74.000000</td>\n",
       "      <td>74.000000</td>\n",
       "      <td>74.000000</td>\n",
       "      <td>74.000000</td>\n",
       "    </tr>\n",
       "    <tr>\n",
       "      <th>mean</th>\n",
       "      <td>201.213950</td>\n",
       "      <td>8.205312</td>\n",
       "      <td>0.394206</td>\n",
       "      <td>8.004148</td>\n",
       "      <td>0.540541</td>\n",
       "    </tr>\n",
       "    <tr>\n",
       "      <th>std</th>\n",
       "      <td>21.172603</td>\n",
       "      <td>3.853361</td>\n",
       "      <td>0.113929</td>\n",
       "      <td>7.207496</td>\n",
       "      <td>0.501756</td>\n",
       "    </tr>\n",
       "    <tr>\n",
       "      <th>min</th>\n",
       "      <td>154.838710</td>\n",
       "      <td>2.844444</td>\n",
       "      <td>0.204254</td>\n",
       "      <td>-1.500000</td>\n",
       "      <td>0.000000</td>\n",
       "    </tr>\n",
       "    <tr>\n",
       "      <th>25%</th>\n",
       "      <td>187.096680</td>\n",
       "      <td>6.049291</td>\n",
       "      <td>0.318129</td>\n",
       "      <td>2.531612</td>\n",
       "      <td>0.000000</td>\n",
       "    </tr>\n",
       "    <tr>\n",
       "      <th>50%</th>\n",
       "      <td>200.514116</td>\n",
       "      <td>7.287356</td>\n",
       "      <td>0.362504</td>\n",
       "      <td>6.224098</td>\n",
       "      <td>1.000000</td>\n",
       "    </tr>\n",
       "    <tr>\n",
       "      <th>75%</th>\n",
       "      <td>213.339148</td>\n",
       "      <td>9.212243</td>\n",
       "      <td>0.444907</td>\n",
       "      <td>12.154385</td>\n",
       "      <td>1.000000</td>\n",
       "    </tr>\n",
       "    <tr>\n",
       "      <th>max</th>\n",
       "      <td>277.842324</td>\n",
       "      <td>22.250000</td>\n",
       "      <td>0.788993</td>\n",
       "      <td>27.385155</td>\n",
       "      <td>1.000000</td>\n",
       "    </tr>\n",
       "  </tbody>\n",
       "</table>\n",
       "</div>"
      ],
      "text/plain": [
       "       caller_wp_min  caller_wp_turn  caller_percent  caller_turn_kurt  \\\n",
       "count      74.000000       74.000000       74.000000         74.000000   \n",
       "mean      201.213950        8.205312        0.394206          8.004148   \n",
       "std        21.172603        3.853361        0.113929          7.207496   \n",
       "min       154.838710        2.844444        0.204254         -1.500000   \n",
       "25%       187.096680        6.049291        0.318129          2.531612   \n",
       "50%       200.514116        7.287356        0.362504          6.224098   \n",
       "75%       213.339148        9.212243        0.444907         12.154385   \n",
       "max       277.842324       22.250000        0.788993         27.385155   \n",
       "\n",
       "          in_ARD  \n",
       "count  74.000000  \n",
       "mean    0.540541  \n",
       "std     0.501756  \n",
       "min     0.000000  \n",
       "25%     0.000000  \n",
       "50%     1.000000  \n",
       "75%     1.000000  \n",
       "max     1.000000  "
      ]
     },
     "execution_count": 135,
     "metadata": {},
     "output_type": "execute_result"
    }
   ],
   "source": [
    "# Drop operator features (not used in this analysis, as discussed previously)\n",
    "\n",
    "df.drop(['operator_wp_min', 'operator_wp_turn', 'operator_percent', 'operator_turn_kurt'], axis=1, inplace=True)\n",
    "df.describe()"
   ]
  },
  {
   "cell_type": "code",
   "execution_count": 136,
   "id": "fb4de08c",
   "metadata": {},
   "outputs": [
    {
     "data": {
      "text/plain": [
       "caller_wp_min       74\n",
       "caller_wp_turn      74\n",
       "caller_percent      74\n",
       "caller_turn_kurt    74\n",
       "in_ARD               2\n",
       "dtype: int64"
      ]
     },
     "execution_count": 136,
     "metadata": {},
     "output_type": "execute_result"
    }
   ],
   "source": [
    "# Number of unique values\n",
    "\n",
    "df.nunique()"
   ]
  },
  {
   "cell_type": "markdown",
   "id": "2f3fd79f",
   "metadata": {},
   "source": [
    "### Relationships between features\n",
    "\n",
    "The correlations between many of the features below suggest that *Naive Bayes* should not be used, since its conditional independence assumption would be violated."
   ]
  },
  {
   "cell_type": "code",
   "execution_count": 137,
   "id": "7e8f5b17",
   "metadata": {},
   "outputs": [
    {
     "data": {
      "image/png": "[encoded data removed]",
      "text/plain": [
       "<Figure size 720x720 with 25 Axes>"
      ]
     },
     "metadata": {
      "needs_background": "light"
     },
     "output_type": "display_data"
    }
   ],
   "source": [
    "# Overall summary of relationships between variables\n",
    "\n",
    "pd.plotting.scatter_matrix(df, figsize=(10, 10));"
   ]
  },
  {
   "cell_type": "markdown",
   "id": "96d4d782",
   "metadata": {},
   "source": [
    "### Investigating feature relevance\n",
    "\n",
    "- **caller_wp_min**: Appears to be irrelevant. Callers' baseline (when not in ARD) speaking rates would potentially be needed here, since different people naturally have different speaking rates.  \n",
    "- **caller_wp_turn**: Appears to be highly relevant\n",
    "- **caller_percent**: Appears to be relevant, but in a non-linear fashion: non-ARD callers are less likely to have extreme values\n",
    "- **caller_turn_kurt**: Appears to be highly relevant"
   ]
  },
  {
   "cell_type": "code",
   "execution_count": 138,
   "id": "bddacfe1",
   "metadata": {},
   "outputs": [],
   "source": [
    "# Helper mask\n",
    "ARD_mask = df['in_ARD'] == 1\n",
    "\n",
    "# caller_wp_min\n",
    "non_ARD_wp_min = df[~ARD_mask]['caller_wp_min'].mean()\n",
    "ARD_wp_min = df[ARD_mask]['caller_wp_min'].mean()\n",
    "\n",
    "# caller_wp_turn\n",
    "non_ARD_wp_turn = df[~ARD_mask]['caller_wp_turn'].mean()\n",
    "ARD_wp_turn = df[ARD_mask]['caller_wp_turn'].mean()\n",
    "\n",
    "# caller_percent\n",
    "non_ARD_percent = df[~ARD_mask]['caller_percent'].mean()\n",
    "ARD_percent = df[ARD_mask]['caller_percent'].mean()\n",
    "\n",
    "# caller_turn_kurt\n",
    "non_ARD_turn_kurt = df[~ARD_mask]['caller_turn_kurt'].mean()\n",
    "ARD_turn_kurt = df[ARD_mask]['caller_turn_kurt'].mean()"
   ]
  },
  {
   "cell_type": "code",
   "execution_count": 139,
   "id": "11a28d19",
   "metadata": {},
   "outputs": [
    {
     "data": {
      "image/png": "[encoded data removed]",
      "text/plain": [
       "<Figure size 1008x360 with 2 Axes>"
      ]
     },
     "metadata": {
      "needs_background": "light"
     },
     "output_type": "display_data"
    }
   ],
   "source": [
    "# caller_wp_min analysis\n",
    "\n",
    "plot_feature_analysis('caller_wp_min', 'red', non_ARD_wp_min, ARD_wp_min)"
   ]
  },
  {
   "cell_type": "code",
   "execution_count": 140,
   "id": "95cc2fef",
   "metadata": {},
   "outputs": [
    {
     "data": {
      "image/png": "[encoded data removed]",
      "text/plain": [
       "<Figure size 1008x360 with 2 Axes>"
      ]
     },
     "metadata": {
      "needs_background": "light"
     },
     "output_type": "display_data"
    }
   ],
   "source": [
    "# caller_wp_turn analysis\n",
    "\n",
    "plot_feature_analysis('caller_wp_turn', 'blue', non_ARD_wp_turn, ARD_wp_turn)"
   ]
  },
  {
   "cell_type": "code",
   "execution_count": 141,
   "id": "f97bfd84",
   "metadata": {},
   "outputs": [
    {
     "data": {
      "image/png": "[encoded data removed]",
      "text/plain": [
       "<Figure size 1008x360 with 2 Axes>"
      ]
     },
     "metadata": {
      "needs_background": "light"
     },
     "output_type": "display_data"
    }
   ],
   "source": [
    "# caller_percent analysis\n",
    "\n",
    "plot_feature_analysis('caller_percent', 'green', non_ARD_percent, ARD_percent)"
   ]
  },
  {
   "cell_type": "code",
   "execution_count": 142,
   "id": "0b4a5462",
   "metadata": {},
   "outputs": [
    {
     "data": {
      "image/png": "[encoded data removed]",
      "text/plain": [
       "<Figure size 1008x360 with 2 Axes>"
      ]
     },
     "metadata": {
      "needs_background": "light"
     },
     "output_type": "display_data"
    }
   ],
   "source": [
    "# caller_turn_kurt analysis\n",
    "\n",
    "plot_feature_analysis('caller_turn_kurt', 'purple', non_ARD_turn_kurt, ARD_turn_kurt)"
   ]
  },
  {
   "cell_type": "code",
   "execution_count": 143,
   "id": "821d223e",
   "metadata": {},
   "outputs": [
    {
     "data": {
      "text/html": [
       "<div>\n",
       "<style scoped>\n",
       "    .dataframe tbody tr th:only-of-type {\n",
       "        vertical-align: middle;\n",
       "    }\n",
       "\n",
       "    .dataframe tbody tr th {\n",
       "        vertical-align: top;\n",
       "    }\n",
       "\n",
       "    .dataframe thead th {\n",
       "        text-align: right;\n",
       "    }\n",
       "</style>\n",
       "<table border=\"1\" class=\"dataframe\">\n",
       "  <thead>\n",
       "    <tr style=\"text-align: right;\">\n",
       "      <th></th>\n",
       "      <th>caller_wp_turn</th>\n",
       "      <th>caller_percent</th>\n",
       "      <th>caller_turn_kurt</th>\n",
       "      <th>in_ARD</th>\n",
       "    </tr>\n",
       "  </thead>\n",
       "  <tbody>\n",
       "    <tr>\n",
       "      <th>0</th>\n",
       "      <td>6.317073</td>\n",
       "      <td>0.295117</td>\n",
       "      <td>12.685567</td>\n",
       "      <td>0</td>\n",
       "    </tr>\n",
       "    <tr>\n",
       "      <th>1</th>\n",
       "      <td>9.131579</td>\n",
       "      <td>0.475236</td>\n",
       "      <td>8.030907</td>\n",
       "      <td>0</td>\n",
       "    </tr>\n",
       "    <tr>\n",
       "      <th>2</th>\n",
       "      <td>12.875000</td>\n",
       "      <td>0.204254</td>\n",
       "      <td>-1.064707</td>\n",
       "      <td>0</td>\n",
       "    </tr>\n",
       "    <tr>\n",
       "      <th>3</th>\n",
       "      <td>6.738095</td>\n",
       "      <td>0.372788</td>\n",
       "      <td>7.257747</td>\n",
       "      <td>0</td>\n",
       "    </tr>\n",
       "    <tr>\n",
       "      <th>4</th>\n",
       "      <td>8.956522</td>\n",
       "      <td>0.372319</td>\n",
       "      <td>6.767570</td>\n",
       "      <td>0</td>\n",
       "    </tr>\n",
       "  </tbody>\n",
       "</table>\n",
       "</div>"
      ],
      "text/plain": [
       "   caller_wp_turn  caller_percent  caller_turn_kurt  in_ARD\n",
       "0        6.317073        0.295117         12.685567       0\n",
       "1        9.131579        0.475236          8.030907       0\n",
       "2       12.875000        0.204254         -1.064707       0\n",
       "3        6.738095        0.372788          7.257747       0\n",
       "4        8.956522        0.372319          6.767570       0"
      ]
     },
     "execution_count": 143,
     "metadata": {},
     "output_type": "execute_result"
    }
   ],
   "source": [
    "# Drop caller_wp_min since it appears to be irrelevant\n",
    "\n",
    "df.drop(['caller_wp_min'], axis=1, inplace=True)\n",
    "df.head()"
   ]
  },
  {
   "cell_type": "markdown",
   "id": "9348ad69",
   "metadata": {},
   "source": [
    "<a id='modelling'></a>\n",
    "## Predictive Modelling"
   ]
  },
  {
   "cell_type": "markdown",
   "id": "b9c39073",
   "metadata": {},
   "source": [
    "### Model scoring\n",
    "\n",
    "The following algorithms were fit to the data:\n",
    "\n",
    "- Logistic Regression\n",
    "- K-Nearest Neighbours (KNN)\n",
    "- Support Vector Machine\n",
    "- Decision Tree\n",
    "- XGBoost\n",
    "\n",
    "Nested cross-validation was employed to both enable hyperparameter tuning and to increase confidence in estimates of test set performance (due to the limited data available). \n",
    "\n",
    "Models were scored according to their accuracy (% of predictions correct), since this metric is applicable to all of the algorithms (other metrics, such as AUC, are not). "
   ]
  },
  {
   "cell_type": "code",
   "execution_count": 144,
   "id": "37669a4e",
   "metadata": {},
   "outputs": [],
   "source": [
    "# Create design and output matrices\n",
    "X = df.iloc[:,:-1]\n",
    "y = df.iloc[:,-1:]\n",
    "\n",
    "# Cross-validation techniques\n",
    "inner_cv = StratifiedKFold(n_splits=4, shuffle=True, random_state=44)\n",
    "outer_cv = StratifiedKFold(n_splits=4, shuffle=True, random_state=44)"
   ]
  },
  {
   "cell_type": "code",
   "execution_count": 145,
   "id": "67df26c1",
   "metadata": {},
   "outputs": [],
   "source": [
    "# Logistic Regression\n",
    "\n",
    "lr = LogisticRegression()\n",
    "lr_pipe = make_pipeline(StandardScaler(), lr)\n",
    "\n",
    "param_grid = {\n",
    "    'logisticregression__C': np.logspace(-4, 4, 8)\n",
    "}\n",
    "\n",
    "clf = GridSearchCV(lr_pipe, param_grid, cv=inner_cv)\n",
    "accuracies = cross_val_score(clf, X, y.values.ravel(), cv=outer_cv)\n",
    "\n",
    "lr_score = accuracies.mean()\n",
    "\n",
    "# Additional statistics\n",
    "lr_pred = cross_val_predict(clf, X, y.values.ravel(), cv=outer_cv)\n",
    "lr_pred_prob = cross_val_predict(clf, X, y.values.ravel(), cv=outer_cv, method='predict_proba')"
   ]
  },
  {
   "cell_type": "code",
   "execution_count": 146,
   "id": "bb19ddf6",
   "metadata": {},
   "outputs": [],
   "source": [
    "# KNN\n",
    "\n",
    "neigh = KNeighborsClassifier()\n",
    "neigh_pipe = make_pipeline(StandardScaler(), neigh)\n",
    "\n",
    "param_grid = {\n",
    "    'kneighborsclassifier__n_neighbors': range(1, 10, 1)\n",
    "}\n",
    "\n",
    "clf = GridSearchCV(neigh_pipe, param_grid, cv=inner_cv)\n",
    "accuracies = cross_val_score(clf, X, y.values.ravel(), cv=outer_cv)\n",
    "\n",
    "neigh_score = accuracies.mean()"
   ]
  },
  {
   "cell_type": "code",
   "execution_count": 147,
   "id": "7e031acc",
   "metadata": {},
   "outputs": [],
   "source": [
    "# Support Vector Machine\n",
    "\n",
    "svc = SVC()\n",
    "svc_pipe = make_pipeline(StandardScaler(), svc)\n",
    "\n",
    "param_grid = [\n",
    "  {'svc__C': [0.01, 0.1, 1, 10, 100], 'svc__kernel': ['linear']},\n",
    "  {'svc__C': [0.01, 0.1, 1, 10, 100], 'svc__gamma': [0.001, 0.01, 0.1, 1], 'svc__kernel': ['rbf']}\n",
    "]\n",
    "\n",
    "clf = GridSearchCV(svc_pipe, param_grid, cv=inner_cv)\n",
    "accuracies = cross_val_score(clf, X, y.values.ravel(), cv=outer_cv)\n",
    "\n",
    "svc_score = accuracies.mean()"
   ]
  },
  {
   "cell_type": "code",
   "execution_count": 148,
   "id": "6956effc",
   "metadata": {},
   "outputs": [],
   "source": [
    "# Decision Tree\n",
    "\n",
    "dt = DecisionTreeClassifier()\n",
    "dt_pipe = make_pipeline(StandardScaler(), dt)\n",
    "\n",
    "param_grid = {\n",
    "    'decisiontreeclassifier__max_depth': range(3, 16, 2),\n",
    "    'decisiontreeclassifier__criterion': ['gini', 'entropy']\n",
    "}\n",
    "\n",
    "clf = GridSearchCV(dt_pipe, param_grid, cv=inner_cv)\n",
    "accuracies = cross_val_score(clf, X, y.values.ravel(), cv=outer_cv)\n",
    "\n",
    "dt_score = accuracies.mean()"
   ]
  },
  {
   "cell_type": "code",
   "execution_count": 149,
   "id": "8ea65d38",
   "metadata": {},
   "outputs": [],
   "source": [
    "# XGBoost\n",
    "\n",
    "xgb = XGBClassifier(objective='binary:logistic', use_label_encoder=False, eval_metric='error', seed=44)\n",
    "xgb_pipe = make_pipeline(StandardScaler(), xgb)\n",
    "\n",
    "param_grid =   {\n",
    "    'xgbclassifier__n_estimators': [5, 10, 50, 100, 150, 200],              \n",
    "    'xgbclassifier__learning_rate': [0.001, 0.01, 0.1, 0.5],                \n",
    "    'xgbclassifier__max_depth': range(3, 16, 2),                            \n",
    "    'xgbclassifier__min_child_weight': [0.01, 0.05, 0.25, 0.75],            \n",
    "    'xgbclassifier__subsample': [i / 10.0 for i in range(1, 3)],            \n",
    "    'xgbclassifier__colsample_bytree': [i / 10.0 for i in range(1, 3)],     \n",
    "    'xgbclassifier__gamma': [i / 10.0 for i in range(0, 5)]                 \n",
    "}\n",
    "\n",
    "clf = GridSearchCV(xgb_pipe, param_grid, cv=inner_cv)\n",
    "accuracies = cross_val_score(clf, X, y.values.ravel(), cv=outer_cv)\n",
    "\n",
    "xgb_score = accuracies.mean()"
   ]
  },
  {
   "cell_type": "markdown",
   "id": "289d81d9",
   "metadata": {},
   "source": [
    "### Model selection\n",
    "\n",
    "**Logistic regression** was found to have the highest accuracy on this dataset. SVM also performs reasonably well. \n",
    "\n",
    "XGBoost performed surprisingly poorly, which suggests that such non-parametric techniques (e.g. Decision Tree, of which XGBoost is an ensemble) are not effective with this specific dataset. "
   ]
  },
  {
   "cell_type": "code",
   "execution_count": 150,
   "id": "920f2f46",
   "metadata": {},
   "outputs": [
    {
     "data": {
      "image/png": "[encoded data removed]",
      "text/plain": [
       "<Figure size 576x432 with 1 Axes>"
      ]
     },
     "metadata": {
      "needs_background": "light"
     },
     "output_type": "display_data"
    }
   ],
   "source": [
    "# Collate data\n",
    "models = ['Logistic Regression', 'KNN', 'SVM', 'Decision Tree', 'XGBoost']\n",
    "accuracies = np.array([lr_score, neigh_score, svc_score, dt_score, xgb_score])\n",
    "accuracy = pd.DataFrame(data=accuracies, columns=['Accuracy Score'], index=models).sort_values(by='Accuracy Score')\n",
    "\n",
    "plt.figure(figsize=(8, 6))\n",
    "plt.title('Model Performance: Accuracy Score', fontweight='bold')\n",
    "ax = sns.barplot(x=accuracy.index, y='Accuracy Score', data=accuracy)\n",
    "for p in ax.patches:\n",
    "    ax.annotate(format(p.get_height(), '.2f'), \n",
    "                   (p.get_x() + p.get_width() / 2., p.get_height()), \n",
    "                   ha = 'center', va = 'center', \n",
    "                   xytext = (0, 9), \n",
    "                   textcoords = 'offset points')\n",
    "\n",
    "ax.set_ylim(0, 1);"
   ]
  },
  {
   "cell_type": "markdown",
   "id": "2d54ce9d",
   "metadata": {},
   "source": [
    "### Logistic Regression: Performance statistics\n",
    "\n",
    "Logistic regression achieves the following headline metrics:\n",
    "\n",
    "- Accuracy: **72%**\n",
    "- Specificity (TNR): **62%**\n",
    "- Sensitivity (TPR): **80%**\n",
    "\n",
    "There is however a trade-off between specificity and sensitivity that can be mapped for logistic regression: for example, sensitivity can be increased at the expense of specificity (and overall accuracy). This is because logistic regression, as a discriminative model, predicts probabilities, and then classifies based on probabilities compared to some cut-off value (by default, 0.5).\n",
    "\n",
    "In this specific context, it would seem to be desirable to prioritise sensitivity to ensure those in ARD are correctly identified (by reducing the cut-off value from 0.5). "
   ]
  },
  {
   "cell_type": "code",
   "execution_count": 151,
   "id": "bf4d99e1",
   "metadata": {},
   "outputs": [
    {
     "data": {
      "image/png": "[encoded data removed]",
      "text/plain": [
       "<Figure size 1008x360 with 3 Axes>"
      ]
     },
     "metadata": {
      "needs_background": "light"
     },
     "output_type": "display_data"
    }
   ],
   "source": [
    "# Plot confusion matrix and summary statistics\n",
    "\n",
    "conf = confusion_matrix(y, lr_pred)\n",
    "acc = (conf[0][0] + conf[1][1]) / conf.sum() \n",
    "spec = conf[0][0] / conf[0].sum()\n",
    "sens = conf[1][1] / conf[1].sum()\n",
    "\n",
    "fig, (ax1, ax2) = plt.subplots(1, 2, figsize=(14,5))\n",
    "fig.suptitle('Logistic Regression: Summary Statistics', fontweight='bold')\n",
    "\n",
    "plot_conf_matrix(ax1, conf)\n",
    "\n",
    "plot_bar_chart(ax2, xlabels=['Accuracy', 'Specificity (TNR)', 'Sensitivity (TPR)'], metrics=np.array([acc, spec, sens]), ylabel='Metrics')\n",
    "ax2.set_ylim(0, 1);"
   ]
  },
  {
   "cell_type": "code",
   "execution_count": 152,
   "id": "770c1667",
   "metadata": {},
   "outputs": [
    {
     "data": {
      "image/png": "[encoded data removed]",
      "text/plain": [
       "<Figure size 504x504 with 1 Axes>"
      ]
     },
     "metadata": {
      "needs_background": "light"
     },
     "output_type": "display_data"
    }
   ],
   "source": [
    "# Specificity vs. sensitivity\n",
    "\n",
    "plot_spec_sens(lr_pred_prob[:,1], spec, sens, 'Logistic Regression: Specificity/Sensitivity Trade-off')"
   ]
  },
  {
   "cell_type": "markdown",
   "id": "6c174ee9",
   "metadata": {},
   "source": [
    "<a id='conclusions'></a>\n",
    "## Conclusions & Next Steps"
   ]
  },
  {
   "cell_type": "markdown",
   "id": "cded45d7",
   "metadata": {},
   "source": [
    "It is possible to predict whether a caller to NHS 111 is in ARD with a moderate degree of accuracy. Given the relatively limited data available, this can be seen as a positive result.\n",
    "\n",
    "To improve model performance further, the dataset should be expanded in terms of number of calls (from the current 74), so that more features can be added to the model without suffering from the curse of dimensionality. These features could be:\n",
    "\n",
    "- Additional feature engineering on the current data (e.g. incorporating operator metrics) \n",
    "- Information on the call content itself (e.g. a transcript or presence of certain key words)\n",
    "- Phonetic analysis on the call using software similar to Praat (which has Python bindings through the Parselmouth library). Praat, for example, has been used to count the number of breaths in a recording. There might be issues here, however, with audio quality over the phone.  \n",
    "\n",
    "Another open question is the extent to which only some initial percentage of the call can be used successfully for classification, since in production this model would ideally be used during a call - and not afterwards. "
   ]
  }
 ],
 "metadata": {
  "kernelspec": {
   "display_name": "Python [conda env:root] *",
   "language": "python",
   "name": "conda-root-py"
  },
  "language_info": {
   "codemirror_mode": {
    "name": "ipython",
    "version": 3
   },
   "file_extension": ".py",
   "mimetype": "text/x-python",
   "name": "python",
   "nbconvert_exporter": "python",
   "pygments_lexer": "ipython3",
   "version": "3.8.12"
  }
 },
 "nbformat": 4,
 "nbformat_minor": 5
}
